{
 "cells": [
  {
   "cell_type": "code",
   "execution_count": 2,
   "metadata": {},
   "outputs": [],
   "source": [
    "import socket\n",
    "ip_dict = {\"1A\": \"192.168.1.151\", \"1B\": \"192.168.1.151\", \"1A'\": \"192.168.1.151\", \"1B'\": \"192.168.1.151\", \n",
    "           \"2A\": \"192.168.1.152\", \"2B\": \"192.168.1.152\", \"2A'\": \"192.168.1.152\", \"2B'\": \"192.168.1.152\", \n",
    "           \"1C\": \"192.168.1.153\", \"2C\": \"192.168.1.153\"}\n",
    "motor_dict = {\"1A\": \"1\", \"1B\": \"2\", \"1A'\": \"3\", \"1B'\": \"4\", \"2A\": \"1\", \"2B\": \"2\", \"2A'\": \"3\", \"2B'\": \"4\", \"1C\": \"1\", \"2C\": \"2\"}\n",
    "\n",
    "def sendinstr(instr,motor,respond = False):\n",
    "    clientsock = socket.socket(socket.AF_INET, socket.SOCK_STREAM)\n",
    "    try:\n",
    "        clientsock.connect((ip_dict[motor],23))\n",
    "        clientsock.recv(4096) # The picomotor will return a dummy code when connected successfully\n",
    "    except ConnectionRefusedError as msg:\n",
    "        raise\n",
    "    clientsock.sendall((instr+'\\r').encode())\n",
    "    if respond:\n",
    "        response = clientsock.recv(4096).decode()\n",
    "        print(\"Response of \"+instr+\": \"+response)\n",
    "    clientsock.close()\n",
    "    if respond:\n",
    "        return response\n",
    "\n",
    "def set_speed(motor,value):\n",
    "    # Value is in step/sec\n",
    "    sendinstr(\"%sVA%u\\rSM\\r\" %(motor_dict[motor],value),motor)\n",
    "\n",
    "def set_accel(motor,value):\n",
    "    # Value is in step/sec^2\n",
    "    sendinstr(\"%sAC%u\\rSM\\r\" %(motor_dict[motor],value),motor)\n",
    "\n",
    "def get_speed(motor):\n",
    "    # Returned value is in step/sec\n",
    "    return sendinstr(\"%sVA?\" %(motor_dict[motor]),motor,True)\n",
    "\n",
    "def get_accel(motor):\n",
    "    # Returned value is in step/sec\n",
    "    return sendinstr(\"%sAC?\" %(motor_dict[motor]),motor,True)\n",
    "\n",
    "def set_zero(motor,value=0):\n",
    "    # Set current position as the assign value (by default '0')\n",
    "    sendinstr(\"%sDH%u\\rSM\\r\" %(motor_dict[motor],value),motor)\n",
    "\n",
    "def get_position(motor):\n",
    "    # Returned value is the current position respect to '0'\n",
    "    return sendinstr(\"%sTP?\" %(motor_dict[motor]),motor,True)\n",
    "\n",
    "def check_error(motor):\n",
    "    # Returned all errors on a driver\n",
    "    return sendinstr(\"TB?\",motor,True)\n",
    "\n",
    "def get_all(motor):\n",
    "    # Returned all settings above\n",
    "    print(\"Motor: \",motor)\n",
    "    print(\"Current Position: \",get_position(motor))\n",
    "    print(\"Current Speed: \",get_speed(motor))\n",
    "    print(\"Current Acceleration: \",get_accel(motor))"
   ]
  },
  {
   "cell_type": "code",
   "execution_count": null,
   "metadata": {},
   "outputs": [],
   "source": []
  }
 ],
 "metadata": {
  "kernelspec": {
   "display_name": "p38",
   "language": "python",
   "name": "python3"
  },
  "language_info": {
   "codemirror_mode": {
    "name": "ipython",
    "version": 3
   },
   "file_extension": ".py",
   "mimetype": "text/x-python",
   "name": "python",
   "nbconvert_exporter": "python",
   "pygments_lexer": "ipython3",
   "version": "3.8.13"
  },
  "orig_nbformat": 4
 },
 "nbformat": 4,
 "nbformat_minor": 2
}
